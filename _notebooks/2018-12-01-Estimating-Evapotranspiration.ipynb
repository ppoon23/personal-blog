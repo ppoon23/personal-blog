{
 "cells": [
  {
   "cell_type": "markdown",
   "metadata": {},
   "source": [
    "# Estimating Evapotranspiration in a Post-Fire Environment Using Remote Sensing and Machine Learning\n",
    "> Peer-Reviewed Article in MDPI - Remote Sensing\n",
    "\n",
    "- badges: false\n",
    "- comments: true\n",
    "- categories: [publication, remote sensing, ML]"
   ]
  },
  {
   "cell_type": "markdown",
   "metadata": {},
   "source": [
    "doi: https://doi.org/10.3390/rs10111728\n",
    "\n",
    "Citation: Poon, P.K. and Kinoshita, A.M., 2018. Estimating Evapotranspiration in a Post-Fire Environment Using Remote Sensing and Machine Learning. *Remote Sensing, 10(11)*, p.1728."
   ]
  },
  {
   "cell_type": "markdown",
   "metadata": {},
   "source": [
    "### Abstract\n",
    "In the hydrological cycle, evapotranspiration (ET) transfers moisture from the land surface to the atmosphere and is sensitive to disturbances such as wildfires. Ground-based pre- and post-fire measurements of ET are often unavailable, limiting the potential to understand the extent of wildfire impacts on the hydrological cycle. This research estimated both pre- and post-fire ET using remotely sensed variables and support vector machine (SVM) methods. Input variables (land surface temperature, modified soil-adjusted vegetation index, normalized difference moisture index, normalized burn ratio, precipitation, potential evapotranspiration, albedo and vegetation types) were used to train and develop 56 combinations that yielded 33 unique SVM models to predict actual ET. The models were trained to predict a spatial ET, the Operational Simplified Surface Energy Balance (SSEBop), for the 2003 Coyote Fire in San Diego, California (USA). The optimal SVM model, SVM-ET6, required six input variables and predicted ET for fifteen years with a root-mean-square error (RMSE) of 8.43 mm/month and a R2 of 0.89. The developed model was transferred and applied to the 2003 Old Fire in San Bernardino, California (USA), where a watershed balance approach was used to validate SVM-ET6 predictions. The annual water balance for ten out of fifteen years was within ±20% of the predicted values. This work demonstrated machine learning as a viable method to create a remotely-sensed estimate with wide applicability for regions with sparse data observations and information. This innovative work demonstrated the potential benefit for land and forest managers to understand and analyze the hydrological cycle of watersheds that experience acute disturbances based on this developed predictive ET model.   "
   ]
  },
  {
   "cell_type": "markdown",
   "metadata": {},
   "source": [
    "![](my_icons/publication_estimating_evapo1.png \"Two wildfires located in Southern California. The soil burn severity is shown for the 2003 Coyote Fire (used for training and tuning the SVM model at training points) and the 2003 Old Fire (used for SVM-ET6 model application). The City Creek Watershed is delineated within the Old Fire perimeter; precipitation and stream gages are shown.\")"
   ]
  },
  {
   "cell_type": "markdown",
   "metadata": {},
   "source": [
    "<br>*This research was supported by NASA Headquarters under the NASA Earth and Space Science Fellowship Program (16-EARTH16F-233) and the SDSU College of Engineering.* "
   ]
  },
  {
   "cell_type": "code",
   "execution_count": null,
   "metadata": {},
   "outputs": [],
   "source": []
  }
 ],
 "metadata": {
  "kernelspec": {
   "display_name": "Python 3",
   "language": "python",
   "name": "python3"
  },
  "language_info": {
   "codemirror_mode": {
    "name": "ipython",
    "version": 3
   },
   "file_extension": ".py",
   "mimetype": "text/x-python",
   "name": "python",
   "nbconvert_exporter": "python",
   "pygments_lexer": "ipython3",
   "version": "3.8.2"
  }
 },
 "nbformat": 4,
 "nbformat_minor": 4
}
