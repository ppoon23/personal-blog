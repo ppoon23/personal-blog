{
 "metadata": {
  "language_info": {
   "codemirror_mode": {
    "name": "ipython",
    "version": 3
   },
   "file_extension": ".py",
   "mimetype": "text/x-python",
   "name": "python",
   "nbconvert_exporter": "python",
   "pygments_lexer": "ipython3",
   "version": "3.8.3-final"
  },
  "orig_nbformat": 2,
  "kernelspec": {
   "name": "python3",
   "display_name": "Python 3",
   "language": "python"
  }
 },
 "nbformat": 4,
 "nbformat_minor": 2,
 "cells": [
  {
   "source": [
    "# Spatial and temporal evapotranspiration trends after wildfire in semi-arid landscapes\n",
    "> Peer-Reviewed Article in Journal of Hydrology\n",
    "\n",
    "- badges: false\n",
    "- comments: true\n",
    "- categories: [publication, remote sensing, statistics]"
   ],
   "cell_type": "markdown",
   "metadata": {}
  },
  {
   "source": [
    "doi: https://doi.org/10.1016/j.jhydrol.2018.02.023\n",
    "\n",
    "Citation: Poon, P.K. and Kinoshita, A.M., 2018. Spatial and temporal evapotranspiration trends after wildfire in semi-arid landscapes. *Journal of hydrology*, 559, pp.71-83."
   ],
   "cell_type": "markdown",
   "metadata": {}
  },
  {
   "source": [
    "### Abstract\n",
    "In recent years climate change and other anthropogenic factors have contributed to increased wildfire frequency and size in western United States forests. This research focuses on the evaluation of spatial and temporal changes in evapotranspiration (ET) following the 2011 Las Conchas Fire in New Mexico (USA) using the Operational Simplified Surface Energy Balance Model (SSEBop ET). Evapotranspiration is coupled with soil burn severity and analyzed for 16 watersheds for water years 2001–2014. An average annual decrease of 120 mm of ET is observed within the regions affected by the Las Conchas Fire, and conifers were converted to grassland a year after the fire. On average, the post-fire annual ET in high, moderate, and low burn severity is lower than pre-fire ET by approximately 103–352 mm, 97–304 mm, and 91–268 mm, respectively. The ratio of post-fire evapotranspiration to precipitation (ET/P) is statistically different from pre-fire conditions (α = 0.05) in nine of the watersheds. The largest decrease in ET is approximately 13–57 mm per month and is most prominent during the summer (April to September). The observed decrease in ET contributes to our understanding of changes in water yield following wildfires, which is of interest for accurately modeling and predicting hydrologic processes in semi-arid landscapes."
   ],
   "cell_type": "markdown",
   "metadata": {}
  },
  {
   "source": [
    "![](my_icons/publication_spatial_and_temp.png \"Percentage difference in pre- and post-ﬁre ET (% ET) and the difference of total vegetation from 2010 to 2012 for high, moderate, low, and unburned SBS within RioChiquito, Headwaters San Antonio Creek, Peralta Canyon, Rio del Oso, and Outlet Borrego Canyon watersheds.\")\n"
   ],
   "cell_type": "markdown",
   "metadata": {}
  },
  {
   "source": [
    "<br>*This research was supported by NASA Headquarters under the NASA Earth and Space Science Fellowship Program (16-EARTH16F-233) and the SDSU College of Engineering.* "
   ],
   "cell_type": "markdown",
   "metadata": {}
  },
  {
   "cell_type": "code",
   "execution_count": null,
   "metadata": {},
   "outputs": [],
   "source": []
  }
 ]
}